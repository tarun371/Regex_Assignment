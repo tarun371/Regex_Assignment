{
  "nbformat": 4,
  "nbformat_minor": 0,
  "metadata": {
    "kernelspec": {
      "display_name": "Python 3",
      "language": "python",
      "name": "python3"
    },
    "language_info": {
      "codemirror_mode": {
        "name": "ipython",
        "version": 3
      },
      "file_extension": ".py",
      "mimetype": "text/x-python",
      "name": "python",
      "nbconvert_exporter": "python",
      "pygments_lexer": "ipython3",
      "version": "3.6.6"
    },
    "colab": {
      "name": "cifar100.ipynb",
      "provenance": []
    }
  },
  "cells": [
    {
      "cell_type": "code",
      "metadata": {
        "_cell_guid": "b1076dfc-b9ad-4769-8c92-a6c4dae69d19",
        "_uuid": "8f2839f25d086af736a60e9eeb907d3b93b6e0e5",
        "id": "GK_XXl1IpuXu",
        "outputId": "0fefcc14-dd16-4f18-95b5-a2050c87721e"
      },
      "source": [
        "import numpy as np\n",
        "import keras\n",
        "import matplotlib.pyplot as plt\n",
        "from tensorflow.python.keras.models import Sequential\n",
        "from tensorflow.python.keras.layers import Dense, Dropout, Activation, Flatten, UpSampling2D, GlobalAveragePooling2D\n",
        "from tensorflow.python.keras.layers import Conv2D, MaxPooling2D\n",
        "from tensorflow.python.keras.layers.normalization import BatchNormalization\n",
        "from tensorflow.python.keras.utils import np_utils\n",
        "from tensorflow.python.keras.datasets import cifar100\n",
        "from tensorflow.keras.applications.resnet_v2 import ResNet152V2, preprocess_input\n",
        "from tensorflow.keras.preprocessing.image import ImageDataGenerator\n",
        "from tensorflow.keras.callbacks import ModelCheckpoint, EarlyStopping\n",
        "from keras import backend as K"
      ],
      "execution_count": null,
      "outputs": [
        {
          "output_type": "stream",
          "text": [
            "Using TensorFlow backend.\n"
          ],
          "name": "stderr"
        }
      ]
    },
    {
      "cell_type": "code",
      "metadata": {
        "id": "VU0mnd1SpuXw",
        "outputId": "c316de3c-092c-465a-e968-f472b509124b"
      },
      "source": [
        "batch_size = 64\n",
        "epochs = 7\n",
        "(x_train, y_train), (x_test, y_test) = cifar100.load_data()\n",
        "\n",
        "\n",
        "x_train = x_train.astype('float32') / 255\n",
        "x_test = x_test.astype('float32') / 255\n",
        "\n",
        "x_val, y_val = x_train[40000:50000,:], y_train[40000:50000]\n",
        "x_train, y_train = x_train[:50000,:], y_train[:50000]\n",
        "\n",
        "x_train = x_train.reshape(x_train.shape[0], 32, 32, 3)\n",
        "x_val = x_val.reshape(x_val.shape[0], 32, 32, 3)\n",
        "x_test = x_test.reshape(x_test.shape[0], 32, 32, 3)\n",
        "\n",
        "\n",
        "y_train = np_utils.to_categorical(y_train, 100)\n",
        "y_val = np_utils.to_categorical(y_val, 100)\n",
        "y_test = np_utils.to_categorical(y_test, 100)\n",
        "\n"
      ],
      "execution_count": null,
      "outputs": [
        {
          "output_type": "stream",
          "text": [
            "Downloading data from https://www.cs.toronto.edu/~kriz/cifar-100-python.tar.gz\n",
            "169009152/169001437 [==============================] - 3s 0us/step\n"
          ],
          "name": "stdout"
        }
      ]
    },
    {
      "cell_type": "code",
      "metadata": {
        "id": "s6C1FtT6puXw",
        "outputId": "0686bedc-a91c-426e-cc46-6d71a7001a82"
      },
      "source": [
        "filepath = '/kaggle/working/best_model_7.h5'\n",
        "\n",
        "checkpoint = ModelCheckpoint(filepath=filepath,\n",
        "                             monitor='val_accuracy',\n",
        "                             verbose=1,\n",
        "                             save_best_only=True)\n",
        "\n",
        "stop =  EarlyStopping(monitor='val_accuracy', min_delta=0.001, \n",
        "                      verbose=0, mode='auto', baseline=None, \n",
        "                      restore_best_weights=False)\n",
        "\n",
        "\n",
        "callbacks = [checkpoint, stop]\n",
        "\n",
        "datagen = ImageDataGenerator(\n",
        "        featurewise_center=False,\n",
        "        samplewise_center=False,\n",
        "        featurewise_std_normalization=False,\n",
        "        samplewise_std_normalization=False,\n",
        "        zca_whitening=False,\n",
        "        rotation_range=0,\n",
        "        width_shift_range=0.1,\n",
        "        height_shift_range=0.1,\n",
        "        horizontal_flip=True,\n",
        "        vertical_flip=False)\n",
        "\n",
        "datagen.fit(x_train)\n",
        "\n",
        "resnet_model = ResNet152V2(weights='imagenet', include_top=False, input_shape=(224, 224, 3), classes = 100)\n",
        "\n",
        "for layer in resnet_model.layers:\n",
        "    if isinstance(layer, BatchNormalization):\n",
        "        layer.trainable = True\n",
        "    else:\n",
        "        layer.trainable = False\n",
        "\n",
        "model = Sequential()\n",
        "model.add(UpSampling2D())\n",
        "model.add(UpSampling2D())\n",
        "model.add(UpSampling2D())\n",
        "model.add(resnet_model)\n",
        "model.add(GlobalAveragePooling2D())\n",
        "model.add(Dense(256, activation='relu'))\n",
        "model.add(Dropout(.25))\n",
        "model.add(BatchNormalization())\n",
        "model.add(Dense(100, activation='softmax'))"
      ],
      "execution_count": null,
      "outputs": [
        {
          "output_type": "stream",
          "text": [
            "Downloading data from https://github.com/keras-team/keras-applications/releases/download/resnet/resnet152v2_weights_tf_dim_ordering_tf_kernels_notop.h5\n",
            "234553344/234545216 [==============================] - 2s 0us/step\n"
          ],
          "name": "stdout"
        }
      ]
    },
    {
      "cell_type": "code",
      "metadata": {
        "id": "tuTcgDJOpuXw",
        "outputId": "b43700b4-458f-4a33-9628-c456dc8540ff"
      },
      "source": [
        "model.compile(loss='categorical_crossentropy',optimizer='adam',metrics=['accuracy'])\n",
        "\n",
        "H = model.fit_generator(datagen.flow(x_train, y_train,\n",
        "                                  batch_size=64),\n",
        "                                  steps_per_epoch=x_train.shape[0] // 64,\n",
        "                                  epochs=epochs,\n",
        "                                  verbose=1,\n",
        "                                  validation_data=(x_val, y_val),\n",
        "                                  callbacks=callbacks)"
      ],
      "execution_count": null,
      "outputs": [
        {
          "output_type": "stream",
          "text": [
            "Train for 781 steps, validate on 10000 samples\n",
            "Epoch 1/7\n",
            "780/781 [============================>.] - ETA: 0s - loss: 1.7697 - accuracy: 0.5402\n",
            "Epoch 00001: val_accuracy improved from -inf to 0.74820, saving model to /kaggle/working/best_model_7.h5\n",
            "781/781 [==============================] - 637s 816ms/step - loss: 1.7689 - accuracy: 0.5404 - val_loss: 0.8458 - val_accuracy: 0.7482\n",
            "Epoch 2/7\n",
            "780/781 [============================>.] - ETA: 0s - loss: 0.9526 - accuracy: 0.7206\n",
            "Epoch 00002: val_accuracy improved from 0.74820 to 0.81050, saving model to /kaggle/working/best_model_7.h5\n",
            "781/781 [==============================] - 611s 783ms/step - loss: 0.9526 - accuracy: 0.7206 - val_loss: 0.6189 - val_accuracy: 0.8105\n",
            "Epoch 3/7\n",
            "780/781 [============================>.] - ETA: 0s - loss: 0.7556 - accuracy: 0.7714\n",
            "Epoch 00003: val_accuracy improved from 0.81050 to 0.84690, saving model to /kaggle/working/best_model_7.h5\n",
            "781/781 [==============================] - 611s 782ms/step - loss: 0.7559 - accuracy: 0.7714 - val_loss: 0.4909 - val_accuracy: 0.8469\n",
            "Epoch 4/7\n",
            "780/781 [============================>.] - ETA: 0s - loss: 0.6423 - accuracy: 0.8018\n",
            "Epoch 00004: val_accuracy improved from 0.84690 to 0.85640, saving model to /kaggle/working/best_model_7.h5\n",
            "781/781 [==============================] - 611s 783ms/step - loss: 0.6423 - accuracy: 0.8018 - val_loss: 0.4356 - val_accuracy: 0.8564\n",
            "Epoch 5/7\n",
            "780/781 [============================>.] - ETA: 0s - loss: 0.5601 - accuracy: 0.8246\n",
            "Epoch 00005: val_accuracy improved from 0.85640 to 0.87850, saving model to /kaggle/working/best_model_7.h5\n",
            "781/781 [==============================] - 612s 783ms/step - loss: 0.5604 - accuracy: 0.8246 - val_loss: 0.3821 - val_accuracy: 0.8785\n",
            "Epoch 6/7\n",
            "780/781 [============================>.] - ETA: 0s - loss: 0.5042 - accuracy: 0.8402\n",
            "Epoch 00006: val_accuracy improved from 0.87850 to 0.88590, saving model to /kaggle/working/best_model_7.h5\n",
            "781/781 [==============================] - 612s 784ms/step - loss: 0.5041 - accuracy: 0.8402 - val_loss: 0.3457 - val_accuracy: 0.8859\n",
            "Epoch 7/7\n",
            "780/781 [============================>.] - ETA: 0s - loss: 0.4501 - accuracy: 0.8557\n",
            "Epoch 00007: val_accuracy improved from 0.88590 to 0.90100, saving model to /kaggle/working/best_model_7.h5\n",
            "781/781 [==============================] - 612s 783ms/step - loss: 0.4501 - accuracy: 0.8557 - val_loss: 0.2960 - val_accuracy: 0.9010\n"
          ],
          "name": "stdout"
        }
      ]
    },
    {
      "cell_type": "code",
      "metadata": {
        "id": "AFB004u_puXx",
        "outputId": "98490438-a615-4a35-d287-7dac3298a0d8"
      },
      "source": [
        "numOfEpoch = epochs\n",
        "plt.figure(figsize=(14, 4))\n",
        "\n",
        "plt.subplot(1,2,1)\n",
        "plt.plot(np.arange(0, numOfEpoch), H.history['loss'], 'bo', label='Training loss')\n",
        "plt.plot(np.arange(0, numOfEpoch), H.history['val_loss'], 'b', label='Validation loss')\n",
        "plt.title('Training and Validation Loss')\n",
        "plt.xlabel('Epochs')\n",
        "plt.ylabel('Loss')\n",
        "plt.legend()\n",
        "\n",
        "plt.subplot(1,2,2)\n",
        "plt.plot(np.arange(0, numOfEpoch), H.history['accuracy'], 'bo', \n",
        "         label='Accuracy', c='orange')\n",
        "plt.plot(np.arange(0, numOfEpoch), H.history['val_accuracy'], 'b', \n",
        "         label='Validation accuracy', c='orange')\n",
        "plt.title('Training and Validation Accuracy')\n",
        "plt.xlabel('Epochs')\n",
        "plt.ylabel('Accuracy')\n",
        "plt.legend()"
      ],
      "execution_count": null,
      "outputs": [
        {
          "output_type": "execute_result",
          "data": {
            "text/plain": [
              "<matplotlib.legend.Legend at 0x7f28f5dc17f0>"
            ]
          },
          "metadata": {
            "tags": []
          },
          "execution_count": 5
        },
        {
          "output_type": "display_data",
          "data": {
            "image/png": "[encoded data removed]",
            "text/plain": [
              "<Figure size 1008x288 with 2 Axes>"
            ]
          },
          "metadata": {
            "tags": [],
            "needs_background": "light"
          }
        }
      ]
    },
    {
      "cell_type": "code",
      "metadata": {
        "id": "6xqgtYlBpuXx",
        "outputId": "91465df3-d994-416e-8ede-61f925bffb50"
      },
      "source": [
        "scores = model.evaluate(x_test,\n",
        "                        y_test,\n",
        "                        verbose=0)\n",
        "print('Test loss:', scores[0])\n",
        "print('Test accuracy:', scores[1])"
      ],
      "execution_count": null,
      "outputs": [
        {
          "output_type": "stream",
          "text": [
            "Test loss: 0.6229129084825515\n",
            "Test accuracy: 0.8213\n"
          ],
          "name": "stdout"
        }
      ]
    },
    {
      "cell_type": "code",
      "metadata": {
        "id": "KSYotag0puXx"
      },
      "source": [
        "from keras.models import load_model\n",
        "\n",
        "model.save('my_model_7.h5')"
      ],
      "execution_count": null,
      "outputs": []
    }
  ]
}