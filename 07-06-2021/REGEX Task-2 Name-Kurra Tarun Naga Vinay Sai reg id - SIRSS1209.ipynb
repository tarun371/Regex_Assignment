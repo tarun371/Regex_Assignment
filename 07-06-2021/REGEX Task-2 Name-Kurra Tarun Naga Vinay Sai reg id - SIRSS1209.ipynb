{
 "cells": [
  {
   "cell_type": "markdown",
   "id": "b920a295",
   "metadata": {},
   "source": [
    "# Task-2\n",
    "# Name-Kurra Tarun Naga Vinay Sai\n",
    "# Reg Id-SIRSS1209"
   ]
  },
  {
   "cell_type": "markdown",
   "id": "47922997",
   "metadata": {},
   "source": [
    "# 1. Write a lambda expression to extract first word of a string."
   ]
  },
  {
   "cell_type": "code",
   "execution_count": 1,
   "id": "2b8e79ca",
   "metadata": {},
   "outputs": [
    {
     "name": "stdout",
     "output_type": "stream",
     "text": [
      "Enter string: hello tarun\n"
     ]
    },
    {
     "data": {
      "text/plain": [
       "'hello'"
      ]
     },
     "execution_count": 1,
     "metadata": {},
     "output_type": "execute_result"
    }
   ],
   "source": [
    "s=input(\"Enter string: \")\n",
    "f=lambda s:s.split()[0]\n",
    "f(s)"
   ]
  },
  {
   "cell_type": "markdown",
   "id": "340230b9",
   "metadata": {},
   "source": [
    "# 2. Write a function to extract first word of s string (with many words separated by space)."
   ]
  },
  {
   "cell_type": "code",
   "execution_count": 4,
   "id": "d9a1a5f2",
   "metadata": {},
   "outputs": [
    {
     "name": "stdout",
     "output_type": "stream",
     "text": [
      "Enter string : how was the day\n",
      "how\n"
     ]
    }
   ],
   "source": [
    "def extract(s):\n",
    "    s1=s.split()\n",
    "    print(s1[0])\n",
    "s=input(\"Enter string : \")\n",
    "extract(s)"
   ]
  },
  {
   "cell_type": "markdown",
   "id": "30714627",
   "metadata": {},
   "source": [
    "# 3. Extract the first word from every string from a list of strings by using map function."
   ]
  },
  {
   "cell_type": "code",
   "execution_count": 5,
   "id": "edf4e1f4",
   "metadata": {},
   "outputs": [
    {
     "name": "stdout",
     "output_type": "stream",
     "text": [
      "['hi', 'hello', 'what', 'who']\n"
     ]
    }
   ],
   "source": [
    "l=['hi hello','hello ,how are you ','what are you','who are you']\n",
    "m=lambda n:n.split()[0]\n",
    "print(list(map(m,l)))"
   ]
  },
  {
   "cell_type": "markdown",
   "id": "ff43da2d",
   "metadata": {},
   "source": [
    "# 4. Write a function to return a list of prime factors of a given number."
   ]
  },
  {
   "cell_type": "code",
   "execution_count": 7,
   "id": "50dbe4bf",
   "metadata": {},
   "outputs": [
    {
     "name": "stdout",
     "output_type": "stream",
     "text": [
      "Enter a number:8\n",
      "prime factors of  8 are : [2]\n"
     ]
    }
   ],
   "source": [
    "def prime(n):\n",
    "    for i in range(2,n):\n",
    "        if(n%i==0):\n",
    "            return False\n",
    "            break\n",
    "    else:\n",
    "        return True\n",
    "def prime_factors(n):\n",
    "    l=[]\n",
    "    for i in range(2,n+1):\n",
    "        if(n%i==0):\n",
    "            if(prime(i)):\n",
    "                l.append(i)\n",
    "    return l\n",
    "n=int(input('Enter a number:'))\n",
    "print('prime factors of ',n,'are :',prime_factors(n)) "
   ]
  },
  {
   "cell_type": "markdown",
   "id": "cdf9e95a",
   "metadata": {},
   "source": [
    "# 5. Write a function that finds 2nd largest among 4 numbers (Repetitions are allowed,without sorting)."
   ]
  },
  {
   "cell_type": "code",
   "execution_count": 8,
   "id": "a6943dfc",
   "metadata": {},
   "outputs": [
    {
     "name": "stdout",
     "output_type": "stream",
     "text": [
      "Enter any four numbers :23 45 66 22\n",
      "45\n"
     ]
    }
   ],
   "source": [
    "def secondlarge(l):\n",
    "    new_list=set(l)\n",
    "    new_list.remove(max(new_list))\n",
    "    print(max(new_list))\n",
    "l = map(int,input(\"Enter any four numbers :\").split())\n",
    "secondlarge(l)"
   ]
  }
 ],
 "metadata": {
  "kernelspec": {
   "display_name": "Python 3",
   "language": "python",
   "name": "python3"
  },
  "language_info": {
   "codemirror_mode": {
    "name": "ipython",
    "version": 3
   },
   "file_extension": ".py",
   "mimetype": "text/x-python",
   "name": "python",
   "nbconvert_exporter": "python",
   "pygments_lexer": "ipython3",
   "version": "3.8.8"
  }
 },
 "nbformat": 4,
 "nbformat_minor": 5
}
