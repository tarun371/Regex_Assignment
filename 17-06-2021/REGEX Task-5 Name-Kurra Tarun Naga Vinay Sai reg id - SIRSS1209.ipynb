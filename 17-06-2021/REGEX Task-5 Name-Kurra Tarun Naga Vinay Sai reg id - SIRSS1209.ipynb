{
 "cells": [
  {
   "cell_type": "markdown",
   "id": "4e1d51ec",
   "metadata": {},
   "source": [
    "# Task 5\n",
    "# Name:Kurra Tarun Naga Vinay Sai\n",
    "# Reg id:SIRSS1209¶"
   ]
  },
  {
   "cell_type": "markdown",
   "id": "ba771393",
   "metadata": {},
   "source": [
    "# 1. Given a list of integers, write a function to return the sum of all prime numbers in that list.¶"
   ]
  },
  {
   "cell_type": "code",
   "execution_count": 21,
   "id": "17604624",
   "metadata": {},
   "outputs": [
    {
     "name": "stdout",
     "output_type": "stream",
     "text": [
      "Enter numbers:2 4 5 6 8 9 11\n",
      "Sum of Prime numbers of given list is :  18\n"
     ]
    }
   ],
   "source": [
    "def prime(n):\n",
    "    if n==1 or n==0:\n",
    "        return False\n",
    "    for i in range(2,n+1//2):\n",
    "        if n%i==0:\n",
    "            return False\n",
    "    return True\n",
    "def sumPrime(l):\n",
    "    sum=0\n",
    "    for i in l:\n",
    "        if(prime(i)):\n",
    "            sum+=i\n",
    "    return sum\n",
    "l=list(map(int,input(\"Enter numbers:\").split()))\n",
    "print(\"Sum of Prime numbers of given list is : \",sumPrime(l))"
   ]
  },
  {
   "cell_type": "markdown",
   "id": "b9827922",
   "metadata": {},
   "source": [
    "# 2. Given a list of integers, write a function to check whether the list is strictly increasing or not."
   ]
  },
  {
   "cell_type": "code",
   "execution_count": 23,
   "id": "23bec28b",
   "metadata": {},
   "outputs": [
    {
     "name": "stdout",
     "output_type": "stream",
     "text": [
      "Enter numbers:1 2 5 4 6 7 8 9\n",
      "List is Strictly Increasing ?:  False\n"
     ]
    }
   ],
   "source": [
    "def strict(l):\n",
    "    res = all(i < j for i, j in zip(l, l[1:]))\n",
    "    return res\n",
    "l=list(map(int,input(\"Enter numbers:\").split()))\n",
    "print(\"List is Strictly Increasing ?: \",strict(l))"
   ]
  },
  {
   "cell_type": "markdown",
   "id": "2d58bf08",
   "metadata": {},
   "source": [
    "# 3. Write a function to check whether a given list is expanding or not (the difference between adjacent elements should keep on increasing)."
   ]
  },
  {
   "cell_type": "code",
   "execution_count": 25,
   "id": "55219ed8",
   "metadata": {},
   "outputs": [
    {
     "name": "stdout",
     "output_type": "stream",
     "text": [
      "enter numbers:1 3 5 8 11 15\n",
      "List is Expanding ?: \n",
      "True\n"
     ]
    }
   ],
   "source": [
    "def expand(k):\n",
    "    diff1=k[1]-k[0]\n",
    "    for i in range(2,len(k)):\n",
    "        diff=k[i]-k[i-1]\n",
    "        if(diff<diff1):\n",
    "            print('False')\n",
    "            break\n",
    "        diff1=diff\n",
    "    else:\n",
    "        print('True')\n",
    "l=list(map(int,input(\"enter numbers:\").split()))\n",
    "print(\"List is Expanding ?: \")\n",
    "expand(l)\n",
    "    "
   ]
  },
  {
   "cell_type": "markdown",
   "id": "a7ff624d",
   "metadata": {},
   "source": [
    "# 4. Write a function to calculate all permutations of a given string. (Without using itertools)"
   ]
  },
  {
   "cell_type": "code",
   "execution_count": 26,
   "id": "c96c942c",
   "metadata": {},
   "outputs": [
    {
     "name": "stdout",
     "output_type": "stream",
     "text": [
      "Enter a string:345\n",
      "Permutations of given string 345 are:\n",
      "345\n",
      "354\n",
      "435\n",
      "453\n",
      "543\n",
      "534\n"
     ]
    }
   ],
   "source": [
    "def toString(lst):\n",
    "    return ''.join(lst)\n",
    "def p(a, l, r):\n",
    "    if l==r:\n",
    "        print(toString(a))\n",
    "    else:\n",
    "        for i in range(l,r+1):\n",
    "            a[l], a[i] = a[i], a[l]\n",
    "            p(a, l+1, r)\n",
    "            a[l], a[i] = a[i], a[l] \n",
    "string = input(\"Enter a string:\")\n",
    "n = len(string)\n",
    "a = list(string)\n",
    "print('Permutations of given string '+string+' are:')\n",
    "p(a, 0, n-1)"
   ]
  }
 ],
 "metadata": {
  "kernelspec": {
   "display_name": "Python 3",
   "language": "python",
   "name": "python3"
  },
  "language_info": {
   "codemirror_mode": {
    "name": "ipython",
    "version": 3
   },
   "file_extension": ".py",
   "mimetype": "text/x-python",
   "name": "python",
   "nbconvert_exporter": "python",
   "pygments_lexer": "ipython3",
   "version": "3.8.8"
  }
 },
 "nbformat": 4,
 "nbformat_minor": 5
}
