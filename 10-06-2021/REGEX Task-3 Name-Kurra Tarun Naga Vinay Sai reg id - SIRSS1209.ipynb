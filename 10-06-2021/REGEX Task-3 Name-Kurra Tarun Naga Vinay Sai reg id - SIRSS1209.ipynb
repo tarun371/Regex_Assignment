{
 "cells": [
  {
   "cell_type": "markdown",
   "id": "2c55057c",
   "metadata": {},
   "source": [
    "# Task-3\n",
    "# Name:Kurra Tarun Naga Vinay Sai\n",
    "# reg id: SIRSS1209"
   ]
  },
  {
   "cell_type": "markdown",
   "id": "1d4bde2c",
   "metadata": {},
   "source": [
    "# 1. Write a function to return nth term of Fibonacci sequence."
   ]
  },
  {
   "cell_type": "code",
   "execution_count": 5,
   "id": "b5b83ade",
   "metadata": {},
   "outputs": [
    {
     "name": "stdout",
     "output_type": "stream",
     "text": [
      "Enter a value: 8\n",
      "term 8 of fibbonacci sequence is:  13\n"
     ]
    }
   ],
   "source": [
    "def fib(n):\n",
    "    if n<0:\n",
    "        print(\"Fibbonacci can't be computed\")\n",
    "    elif n==1:\n",
    "        return 0\n",
    "    elif n==2:\n",
    "        return 1\n",
    "    else:\n",
    "        return fib(n-1)+fib(n-2)\n",
    "a= int(input(\"Enter a value: \"))\n",
    "print(\"term\",a,\"of fibbonacci sequence is: \",fib(a))"
   ]
  },
  {
   "cell_type": "markdown",
   "id": "dd992285",
   "metadata": {},
   "source": [
    "# 2. Write a function to find out GCD of two numbers using EUCLID'S algorithm."
   ]
  },
  {
   "cell_type": "code",
   "execution_count": 2,
   "id": "a6df455a",
   "metadata": {},
   "outputs": [
    {
     "name": "stdout",
     "output_type": "stream",
     "text": [
      "Enter a value: 6\n",
      "Enter b value: 12\n",
      "GCD of  6 and 12 is : 6\n"
     ]
    }
   ],
   "source": [
    "def gcd(a,b):\n",
    "    if a==0:\n",
    "        return b\n",
    "    else:\n",
    "        return(gcd(b%a,a))\n",
    "a=int(input(\"Enter a value: \"))\n",
    "b=int(input(\"Enter b value: \"))\n",
    "print(\"GCD of \",a,\"and\",b,\"is :\",gcd(a,b))"
   ]
  },
  {
   "cell_type": "markdown",
   "id": "5d0d0126",
   "metadata": {},
   "source": [
    "# 3. Write a function to find LCM of two number in most optimizers way."
   ]
  },
  {
   "cell_type": "code",
   "execution_count": 3,
   "id": "c4cb0d61",
   "metadata": {},
   "outputs": [
    {
     "name": "stdout",
     "output_type": "stream",
     "text": [
      "Enter a value: 3\n",
      "Enter b value: 4\n",
      "LCM of  3 and 4 is : 12\n"
     ]
    }
   ],
   "source": [
    "def gcd(a,b):\n",
    "    if a==0:\n",
    "        return b\n",
    "    else:\n",
    "        return(gcd(b%a,a))\n",
    "def lcm(a,b):\n",
    "    lcm=a*b//gcd(a,b)\n",
    "    return lcm\n",
    "a= int(input(\"Enter a value: \"))\n",
    "b= int(input(\"Enter b value: \"))\n",
    "print(\"LCM of \",a,\"and\",b,\"is :\",lcm(a,b))"
   ]
  }
 ],
 "metadata": {
  "kernelspec": {
   "display_name": "Python 3",
   "language": "python",
   "name": "python3"
  },
  "language_info": {
   "codemirror_mode": {
    "name": "ipython",
    "version": 3
   },
   "file_extension": ".py",
   "mimetype": "text/x-python",
   "name": "python",
   "nbconvert_exporter": "python",
   "pygments_lexer": "ipython3",
   "version": "3.8.8"
  }
 },
 "nbformat": 4,
 "nbformat_minor": 5
}
