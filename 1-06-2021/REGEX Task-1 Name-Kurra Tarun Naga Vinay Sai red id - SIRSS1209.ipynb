{
 "cells": [
  {
   "cell_type": "markdown",
   "id": "80cdca31",
   "metadata": {},
   "source": [
    "# Name:Kurra Tarun Naga Vinay Sai\n",
    "# Reg id:SIRSS1209"
   ]
  },
  {
   "cell_type": "markdown",
   "id": "5172b15c",
   "metadata": {},
   "source": [
    "# 1"
   ]
  },
  {
   "cell_type": "code",
   "execution_count": 3,
   "id": "53132d7a",
   "metadata": {},
   "outputs": [
    {
     "name": "stdout",
     "output_type": "stream",
     "text": [
      "enter a number: 5\n",
      "5 5 5 5 5  \n",
      "5 5 5 5  \n",
      "5 5 5  \n",
      "5 5  \n",
      "5  \n"
     ]
    }
   ],
   "source": [
    "n=int(input(\"enter a number: \"))\n",
    "for i in range(n):\n",
    "    print(((str(n)+\" \")*(n-i)),end=\" \")\n",
    "    print()"
   ]
  },
  {
   "cell_type": "markdown",
   "id": "23c2456d",
   "metadata": {},
   "source": [
    "# 2"
   ]
  },
  {
   "cell_type": "code",
   "execution_count": 4,
   "id": "8c886af0",
   "metadata": {},
   "outputs": [
    {
     "name": "stdout",
     "output_type": "stream",
     "text": [
      "enter a number: 5\n",
      "0 1 2 3 4 5 \n",
      "0 1 2 3 4 \n",
      "0 1 2 3 \n",
      "0 1 2 \n",
      "0 1 \n"
     ]
    }
   ],
   "source": [
    "n=int(input(\"enter a number: \"))\n",
    "for i in range(n):\n",
    "    c=0\n",
    "    for j in range(n+1,i,-1):\n",
    "        print(c,end=\" \")\n",
    "        c+=1 \n",
    "        \n",
    "    print()"
   ]
  },
  {
   "cell_type": "markdown",
   "id": "2513a254",
   "metadata": {},
   "source": [
    "# 3"
   ]
  },
  {
   "cell_type": "code",
   "execution_count": 5,
   "id": "16b9e977",
   "metadata": {},
   "outputs": [
    {
     "name": "stdout",
     "output_type": "stream",
     "text": [
      "enter a number: 5\n",
      "1  \n",
      "3 3  \n",
      "5 5 5  \n",
      "7 7 7 7  \n",
      "9 9 9 9 9  \n"
     ]
    }
   ],
   "source": [
    "n=int(input(\"enter a number: \"))\n",
    "c=1\n",
    "for i in range(1,n+1):\n",
    "    print(((str(c)+\" \")*(i)),end=\" \")\n",
    "    c+=2\n",
    "    print()\n"
   ]
  },
  {
   "cell_type": "markdown",
   "id": "c52ea892",
   "metadata": {},
   "source": [
    "# 4"
   ]
  },
  {
   "cell_type": "code",
   "execution_count": 6,
   "id": "30c21a3b",
   "metadata": {},
   "outputs": [
    {
     "name": "stdout",
     "output_type": "stream",
     "text": [
      "enter a number: 5\n",
      "1 \n",
      "2 1 \n",
      "3 2 1 \n",
      "4 3 2 1 \n",
      "5 4 3 2 1 \n"
     ]
    }
   ],
   "source": [
    "n=int(input(\"enter a number: \"))\n",
    "for i in range(1,n+1):\n",
    "    c=i\n",
    "    for j in range(i):\n",
    "        print(c,end=\" \")\n",
    "        c-=1 \n",
    "        \n",
    "    print()"
   ]
  },
  {
   "cell_type": "markdown",
   "id": "a5a084f8",
   "metadata": {},
   "source": [
    "# 5"
   ]
  },
  {
   "cell_type": "code",
   "execution_count": 7,
   "id": "c5a70fc9",
   "metadata": {},
   "outputs": [
    {
     "name": "stdout",
     "output_type": "stream",
     "text": [
      "enter a number: 5\n",
      "1 \n",
      "3 2 \n",
      "6 5 4 \n",
      "10 9 8 7 \n",
      "15 14 13 12 11 \n"
     ]
    }
   ],
   "source": [
    "n=int(input(\"enter a number: \"))\n",
    "c=0\n",
    "for i in range(1,n+1):\n",
    "    c+=i\n",
    "    k=c\n",
    "    for j in range(i):\n",
    "        print(k,end=\" \")\n",
    "        k-=1\n",
    "    print()"
   ]
  },
  {
   "cell_type": "markdown",
   "id": "484e26e2",
   "metadata": {},
   "source": [
    "# 6"
   ]
  },
  {
   "cell_type": "code",
   "execution_count": 8,
   "id": "51ffe234",
   "metadata": {},
   "outputs": [
    {
     "name": "stdout",
     "output_type": "stream",
     "text": [
      "enter a number: 7\n",
      "1 1 \n",
      "1 2 1 \n",
      "1 3 3 1 \n",
      "1 4 6 4 1 \n",
      "1 5 10 10 5 1 \n",
      "1 6 15 20 15 6 1 \n"
     ]
    }
   ],
   "source": [
    "n=int(input(\"enter a number: \"))\n",
    "l=[0]*n\n",
    "k=[0]*n\n",
    "l[0]=1\n",
    "for i in range(1,n):\n",
    "    for i in range(n):\n",
    "        k[i]=l[i]\n",
    "    for j in range(1,i+1):\n",
    "        l[j]=k[j]+k[j-1]\n",
    "    for i in l:\n",
    "        if i!=0:\n",
    "            print(i,end=\" \")\n",
    "    print()   "
   ]
  },
  {
   "cell_type": "markdown",
   "id": "d8804eac",
   "metadata": {},
   "source": [
    "# 7"
   ]
  },
  {
   "cell_type": "code",
   "execution_count": 9,
   "id": "bad1626d",
   "metadata": {},
   "outputs": [
    {
     "name": "stdout",
     "output_type": "stream",
     "text": [
      "enter a number: 5\n",
      "1 2 3 4 5 \n",
      "2 2 3 4 5 \n",
      "3 3 3 4 5 \n",
      "4 4 4 4 5 \n",
      "5 5 5 5 5 \n"
     ]
    }
   ],
   "source": [
    "n=int(input(\"enter a number: \"))\n",
    "for i in range(1,n+1):\n",
    "    k=i\n",
    "    for j in range(1,n+1):\n",
    "        if i>=j:\n",
    "            pass\n",
    "        else:\n",
    "            k+=1 \n",
    "        print(k,end=\" \")\n",
    "    print()"
   ]
  },
  {
   "cell_type": "markdown",
   "id": "8341d038",
   "metadata": {},
   "source": [
    "# 8"
   ]
  },
  {
   "cell_type": "code",
   "execution_count": 10,
   "id": "bbe88934",
   "metadata": {},
   "outputs": [
    {
     "name": "stdout",
     "output_type": "stream",
     "text": [
      "enter a number: 8\n",
      "1 \n",
      "2 4 \n",
      "3 6 9 \n",
      "4 8 12 16 \n",
      "5 10 15 20 25 \n",
      "6 12 18 24 30 36 \n",
      "7 14 21 28 35 42 49 \n",
      "8 16 24 32 40 48 56 64 \n"
     ]
    }
   ],
   "source": [
    "n=int(input(\"enter a number: \"))\n",
    "for i in range(1,n+1):\n",
    "    k=i\n",
    "    for j in range(i):\n",
    "        print(k,end=\" \")\n",
    "        k+=i\n",
    "    print()"
   ]
  },
  {
   "cell_type": "markdown",
   "id": "55bff71b",
   "metadata": {},
   "source": [
    "# 9"
   ]
  },
  {
   "cell_type": "code",
   "execution_count": 11,
   "id": "75ff3162",
   "metadata": {},
   "outputs": [
    {
     "name": "stdout",
     "output_type": "stream",
     "text": [
      "enter a number: 6\n",
      "* * * * * * \n",
      " * * * * * \n",
      "  * * * * \n",
      "   * * * \n",
      "    * * \n",
      "     * \n"
     ]
    }
   ],
   "source": [
    "n=int(input(\"enter a number: \"))\n",
    "for i in range(n):\n",
    "    for j in range(i):\n",
    "        print(\"\",end=\" \")\n",
    "    for j in range(n-i):\n",
    "        print(\"*\",end=\" \")\n",
    "    print()"
   ]
  },
  {
   "cell_type": "markdown",
   "id": "2f91f9d6",
   "metadata": {},
   "source": [
    "# 10"
   ]
  },
  {
   "cell_type": "code",
   "execution_count": 12,
   "id": "5ad04f6c",
   "metadata": {},
   "outputs": [
    {
     "name": "stdout",
     "output_type": "stream",
     "text": [
      "enter a number: 7\n",
      "       \n",
      "      *  \n",
      "     *  *  \n",
      "    *  *  *  \n",
      "   *  *  *  *  \n",
      "  *  *  *  *  *  \n",
      " *  *  *  *  *  *  \n"
     ]
    }
   ],
   "source": [
    "n=int(input(\"enter a number: \"))\n",
    "for i in range(n):\n",
    "    for j in range(n-i):\n",
    "        print(\"\",end=\" \")\n",
    "    for j in range(i):\n",
    "        print(\"* \",end=\" \")\n",
    "    print()"
   ]
  },
  {
   "cell_type": "markdown",
   "id": "e1e49102",
   "metadata": {},
   "source": [
    "# 11"
   ]
  },
  {
   "cell_type": "code",
   "execution_count": 13,
   "id": "336b3265",
   "metadata": {},
   "outputs": [
    {
     "name": "stdout",
     "output_type": "stream",
     "text": [
      "enter a number: 6\n",
      "* \n",
      "* * \n",
      "* * * \n",
      "* * * * \n",
      "* * * * * \n",
      "* * * * * * \n",
      "\n",
      "* * * * * * \n",
      "* * * * * \n",
      "* * * * \n",
      "* * * \n",
      "* * \n",
      "* \n"
     ]
    }
   ],
   "source": [
    "n=int(input(\"enter a number: \"))\n",
    "for i in range(1,n+1):\n",
    "    for j in range(i):\n",
    "        print(\"*\",end=\" \")\n",
    "    print()\n",
    "print()\n",
    "for i in range(n+1,1,-1):\n",
    "    for j in range(i-1):\n",
    "        print(\"*\",end=\" \")\n",
    "    print()"
   ]
  },
  {
   "cell_type": "markdown",
   "id": "83b83df9",
   "metadata": {},
   "source": [
    "# 12"
   ]
  },
  {
   "cell_type": "code",
   "execution_count": null,
   "id": "036d958f",
   "metadata": {},
   "outputs": [],
   "source": [
    "n=int(input(\"enter a number: \"))\n",
    "for i in range(1,n+1):\n",
    "    for j in range(i):\n",
    "        print(\"*\",end=\" \")\n",
    "    print()\n",
    "for i in range(n,1,-1):\n",
    "    for j in range(i-1):\n",
    "        print(\"*\",end=\" \")\n",
    "    print()"
   ]
  },
  {
   "cell_type": "markdown",
   "id": "2a9f3d90",
   "metadata": {},
   "source": [
    "# 13"
   ]
  },
  {
   "cell_type": "code",
   "execution_count": 10,
   "id": "6cedc5fd",
   "metadata": {},
   "outputs": [
    {
     "name": "stdout",
     "output_type": "stream",
     "text": [
      "enter a number: 5\n",
      "        * \n",
      "      * * \n",
      "    * * * \n",
      "  * * * * \n",
      "* * * * * \n",
      "  * * * * \n",
      "    * * * \n",
      "      * * \n",
      "        * \n"
     ]
    }
   ],
   "source": [
    "n=int(input(\"enter a number: \"))\n",
    "for i in range(1,n+1):\n",
    "    for j in range(n-i):\n",
    "        print(\" \",end=\" \")\n",
    "    for j in range(i):\n",
    "        print(\"*\",end=\" \")\n",
    "    print()\n",
    "for i in range(n-1,0,-1):\n",
    "    for j in range(n-i):\n",
    "        print(\" \",end=\" \")\n",
    "    for j in range(i):\n",
    "        print(\"*\",end=\" \")\n",
    "    print()"
   ]
  },
  {
   "cell_type": "markdown",
   "id": "00adc410",
   "metadata": {},
   "source": [
    "# 14"
   ]
  },
  {
   "cell_type": "code",
   "execution_count": 11,
   "id": "32db149e",
   "metadata": {},
   "outputs": [
    {
     "name": "stdout",
     "output_type": "stream",
     "text": [
      "enter a number: 5\n",
      "* * * * * \n",
      " * * * * \n",
      "  * * * \n",
      "   * * \n",
      "    * \n",
      "    * \n",
      "   * * \n",
      "  * * * \n",
      " * * * * \n",
      "* * * * * \n"
     ]
    }
   ],
   "source": [
    "n=int(input(\"enter a number: \"))\n",
    "for i in range(n):\n",
    "    for j in range(i):\n",
    "        print(\"\",end=\" \")\n",
    "    for j in range(n-i):\n",
    "        print(\"*\",end=\" \")\n",
    "    print()\n",
    "for i in range(n,0,-1):\n",
    "    for j in range(i-1):\n",
    "        print(\"\",end=\" \")\n",
    "    for j in range(n-i+1):\n",
    "        print(\"*\",end=\" \")\n",
    "    print()"
   ]
  },
  {
   "cell_type": "markdown",
   "id": "ceccb202",
   "metadata": {},
   "source": [
    "# 15"
   ]
  },
  {
   "cell_type": "code",
   "execution_count": 13,
   "id": "84d0a672",
   "metadata": {},
   "outputs": [
    {
     "name": "stdout",
     "output_type": "stream",
     "text": [
      "enter a number: 14\n",
      "**************\n",
      "******__******\n",
      "*****____*****\n",
      "****______****\n",
      "***________***\n",
      "**__________**\n",
      "*____________*\n"
     ]
    }
   ],
   "source": [
    "n=int(input(\"enter a number: \"))\n",
    "print(\"*\" * n, end=\"\\n\")\n",
    "i = (n // 2) - 1\n",
    "j = 2\n",
    "while i != 0:\n",
    "    while j <= (n - 2):\n",
    "        print(\"*\" * i, end=\"\")\n",
    "        print(\"_\" * j, end=\"\")\n",
    "        print(\"*\" * i, end=\"\\n\")\n",
    "        i = i - 1\n",
    "        j = j + 2"
   ]
  }
 ],
 "metadata": {
  "kernelspec": {
   "display_name": "Python 3",
   "language": "python",
   "name": "python3"
  },
  "language_info": {
   "codemirror_mode": {
    "name": "ipython",
    "version": 3
   },
   "file_extension": ".py",
   "mimetype": "text/x-python",
   "name": "python",
   "nbconvert_exporter": "python",
   "pygments_lexer": "ipython3",
   "version": "3.8.8"
  }
 },
 "nbformat": 4,
 "nbformat_minor": 5
}
